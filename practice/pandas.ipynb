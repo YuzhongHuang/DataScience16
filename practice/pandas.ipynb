{
 "cells": [
  {
   "cell_type": "code",
   "execution_count": 2,
   "metadata": {
    "collapsed": false
   },
   "outputs": [
    {
     "name": "stderr",
     "output_type": "stream",
     "text": [
      "/home/yuzhong/anaconda2/lib/python2.7/site-packages/matplotlib/font_manager.py:273: UserWarning: Matplotlib is building the font cache using fc-list. This may take a moment.\n",
      "  warnings.warn('Matplotlib is building the font cache using fc-list. This may take a moment.')\n"
     ]
    }
   ],
   "source": [
    "import pandas as pd\n",
    "import numpy as np\n",
    "import matplotlib.pyplot as plt "
   ]
  },
  {
   "cell_type": "code",
   "execution_count": 6,
   "metadata": {
    "collapsed": false
   },
   "outputs": [
    {
     "data": {
      "text/plain": [
       "0     1\n",
       "1     3\n",
       "2     5\n",
       "3   NaN\n",
       "4     6\n",
       "5    10\n",
       "dtype: float64"
      ]
     },
     "execution_count": 6,
     "metadata": {},
     "output_type": "execute_result"
    }
   ],
   "source": [
    "pd.Series([1,3,5,np.nan,6,10])"
   ]
  },
  {
   "cell_type": "code",
   "execution_count": 9,
   "metadata": {
    "collapsed": false
   },
   "outputs": [
    {
     "data": {
      "text/plain": [
       "DatetimeIndex(['2016-01-23', '2016-01-24', '2016-01-25', '2016-01-26',\n",
       "               '2016-01-27', '2016-01-28'],\n",
       "              dtype='datetime64[ns]', freq='D')"
      ]
     },
     "execution_count": 9,
     "metadata": {},
     "output_type": "execute_result"
    }
   ],
   "source": [
    "dates = pd.date_range('20160123', periods=6)\n",
    "dates"
   ]
  },
  {
   "cell_type": "code",
   "execution_count": 13,
   "metadata": {
    "collapsed": false
   },
   "outputs": [
    {
     "data": {
      "text/html": [
       "<div>\n",
       "<table border=\"1\" class=\"dataframe\">\n",
       "  <thead>\n",
       "    <tr style=\"text-align: right;\">\n",
       "      <th></th>\n",
       "      <th>A</th>\n",
       "      <th>B</th>\n",
       "      <th>C</th>\n",
       "      <th>D</th>\n",
       "    </tr>\n",
       "  </thead>\n",
       "  <tbody>\n",
       "    <tr>\n",
       "      <th>2016-01-23</th>\n",
       "      <td>-0.022263</td>\n",
       "      <td>0.389434</td>\n",
       "      <td>-0.388896</td>\n",
       "      <td>-2.222268</td>\n",
       "    </tr>\n",
       "    <tr>\n",
       "      <th>2016-01-24</th>\n",
       "      <td>-1.116883</td>\n",
       "      <td>0.297684</td>\n",
       "      <td>0.064356</td>\n",
       "      <td>-0.180352</td>\n",
       "    </tr>\n",
       "    <tr>\n",
       "      <th>2016-01-25</th>\n",
       "      <td>-0.083992</td>\n",
       "      <td>0.488051</td>\n",
       "      <td>-1.157733</td>\n",
       "      <td>-1.274027</td>\n",
       "    </tr>\n",
       "    <tr>\n",
       "      <th>2016-01-26</th>\n",
       "      <td>-0.705162</td>\n",
       "      <td>1.548509</td>\n",
       "      <td>-1.305758</td>\n",
       "      <td>-1.088987</td>\n",
       "    </tr>\n",
       "    <tr>\n",
       "      <th>2016-01-27</th>\n",
       "      <td>-0.934032</td>\n",
       "      <td>0.714223</td>\n",
       "      <td>-0.972184</td>\n",
       "      <td>-1.136728</td>\n",
       "    </tr>\n",
       "    <tr>\n",
       "      <th>2016-01-28</th>\n",
       "      <td>0.135816</td>\n",
       "      <td>0.241768</td>\n",
       "      <td>1.024932</td>\n",
       "      <td>0.019927</td>\n",
       "    </tr>\n",
       "  </tbody>\n",
       "</table>\n",
       "</div>"
      ],
      "text/plain": [
       "                   A         B         C         D\n",
       "2016-01-23 -0.022263  0.389434 -0.388896 -2.222268\n",
       "2016-01-24 -1.116883  0.297684  0.064356 -0.180352\n",
       "2016-01-25 -0.083992  0.488051 -1.157733 -1.274027\n",
       "2016-01-26 -0.705162  1.548509 -1.305758 -1.088987\n",
       "2016-01-27 -0.934032  0.714223 -0.972184 -1.136728\n",
       "2016-01-28  0.135816  0.241768  1.024932  0.019927"
      ]
     },
     "execution_count": 13,
     "metadata": {},
     "output_type": "execute_result"
    }
   ],
   "source": [
    "df = pd.DataFrame(np.random.randn(6,4), index=dates, columns=list('ABCD'))\n",
    "df"
   ]
  },
  {
   "cell_type": "code",
   "execution_count": 17,
   "metadata": {
    "collapsed": false
   },
   "outputs": [
    {
     "data": {
      "text/html": [
       "<div>\n",
       "<table border=\"1\" class=\"dataframe\">\n",
       "  <thead>\n",
       "    <tr style=\"text-align: right;\">\n",
       "      <th></th>\n",
       "      <th>A</th>\n",
       "      <th>B</th>\n",
       "      <th>C</th>\n",
       "      <th>D</th>\n",
       "      <th>E</th>\n",
       "      <th>F</th>\n",
       "    </tr>\n",
       "  </thead>\n",
       "  <tbody>\n",
       "    <tr>\n",
       "      <th>0</th>\n",
       "      <td>1</td>\n",
       "      <td>2013-01-02</td>\n",
       "      <td>1</td>\n",
       "      <td>3</td>\n",
       "      <td>test</td>\n",
       "      <td>foo</td>\n",
       "    </tr>\n",
       "    <tr>\n",
       "      <th>1</th>\n",
       "      <td>1</td>\n",
       "      <td>2013-01-02</td>\n",
       "      <td>1</td>\n",
       "      <td>3</td>\n",
       "      <td>train</td>\n",
       "      <td>foo</td>\n",
       "    </tr>\n",
       "    <tr>\n",
       "      <th>2</th>\n",
       "      <td>1</td>\n",
       "      <td>2013-01-02</td>\n",
       "      <td>1</td>\n",
       "      <td>3</td>\n",
       "      <td>test</td>\n",
       "      <td>foo</td>\n",
       "    </tr>\n",
       "    <tr>\n",
       "      <th>3</th>\n",
       "      <td>1</td>\n",
       "      <td>2013-01-02</td>\n",
       "      <td>1</td>\n",
       "      <td>3</td>\n",
       "      <td>train</td>\n",
       "      <td>foo</td>\n",
       "    </tr>\n",
       "  </tbody>\n",
       "</table>\n",
       "</div>"
      ],
      "text/plain": [
       "   A          B  C  D      E    F\n",
       "0  1 2013-01-02  1  3   test  foo\n",
       "1  1 2013-01-02  1  3  train  foo\n",
       "2  1 2013-01-02  1  3   test  foo\n",
       "3  1 2013-01-02  1  3  train  foo"
      ]
     },
     "execution_count": 17,
     "metadata": {},
     "output_type": "execute_result"
    }
   ],
   "source": [
    "df2 = pd.DataFrame({ 'A' : 1.,\n",
    "   ....:                      'B' : pd.Timestamp('20130102'),\n",
    "   ....:                      'C' : pd.Series(1,index=list(range(4)),dtype='float32'),\n",
    "   ....:                      'D' : np.array([3] * 4,dtype='int32'),\n",
    "   ....:                      'E' : pd.Categorical([\"test\",\"train\",\"test\",\"train\"]),\n",
    "   ....:                      'F' : 'foo' })\n",
    "df2"
   ]
  },
  {
   "cell_type": "code",
   "execution_count": 21,
   "metadata": {
    "collapsed": false
   },
   "outputs": [
    {
     "data": {
      "text/plain": [
       "A           float64\n",
       "B    datetime64[ns]\n",
       "C           float32\n",
       "D             int32\n",
       "E          category\n",
       "F            object\n",
       "dtype: object"
      ]
     },
     "execution_count": 21,
     "metadata": {},
     "output_type": "execute_result"
    }
   ],
   "source": [
    "df2.dtypes"
   ]
  },
  {
   "cell_type": "code",
   "execution_count": 23,
   "metadata": {
    "collapsed": false
   },
   "outputs": [
    {
     "data": {
      "text/html": [
       "<div>\n",
       "<table border=\"1\" class=\"dataframe\">\n",
       "  <thead>\n",
       "    <tr style=\"text-align: right;\">\n",
       "      <th></th>\n",
       "      <th>A</th>\n",
       "      <th>B</th>\n",
       "      <th>C</th>\n",
       "      <th>D</th>\n",
       "    </tr>\n",
       "  </thead>\n",
       "  <tbody>\n",
       "    <tr>\n",
       "      <th>2016-01-23</th>\n",
       "      <td>-0.022263</td>\n",
       "      <td>0.389434</td>\n",
       "      <td>-0.388896</td>\n",
       "      <td>-2.222268</td>\n",
       "    </tr>\n",
       "    <tr>\n",
       "      <th>2016-01-24</th>\n",
       "      <td>-1.116883</td>\n",
       "      <td>0.297684</td>\n",
       "      <td>0.064356</td>\n",
       "      <td>-0.180352</td>\n",
       "    </tr>\n",
       "    <tr>\n",
       "      <th>2016-01-25</th>\n",
       "      <td>-0.083992</td>\n",
       "      <td>0.488051</td>\n",
       "      <td>-1.157733</td>\n",
       "      <td>-1.274027</td>\n",
       "    </tr>\n",
       "  </tbody>\n",
       "</table>\n",
       "</div>"
      ],
      "text/plain": [
       "                   A         B         C         D\n",
       "2016-01-23 -0.022263  0.389434 -0.388896 -2.222268\n",
       "2016-01-24 -1.116883  0.297684  0.064356 -0.180352\n",
       "2016-01-25 -0.083992  0.488051 -1.157733 -1.274027"
      ]
     },
     "execution_count": 23,
     "metadata": {},
     "output_type": "execute_result"
    }
   ],
   "source": [
    "df.head(3)\n"
   ]
  },
  {
   "cell_type": "code",
   "execution_count": 24,
   "metadata": {
    "collapsed": false
   },
   "outputs": [
    {
     "data": {
      "text/html": [
       "<div>\n",
       "<table border=\"1\" class=\"dataframe\">\n",
       "  <thead>\n",
       "    <tr style=\"text-align: right;\">\n",
       "      <th></th>\n",
       "      <th>A</th>\n",
       "      <th>B</th>\n",
       "      <th>C</th>\n",
       "      <th>D</th>\n",
       "    </tr>\n",
       "  </thead>\n",
       "  <tbody>\n",
       "    <tr>\n",
       "      <th>2016-01-24</th>\n",
       "      <td>-1.116883</td>\n",
       "      <td>0.297684</td>\n",
       "      <td>0.064356</td>\n",
       "      <td>-0.180352</td>\n",
       "    </tr>\n",
       "    <tr>\n",
       "      <th>2016-01-25</th>\n",
       "      <td>-0.083992</td>\n",
       "      <td>0.488051</td>\n",
       "      <td>-1.157733</td>\n",
       "      <td>-1.274027</td>\n",
       "    </tr>\n",
       "    <tr>\n",
       "      <th>2016-01-26</th>\n",
       "      <td>-0.705162</td>\n",
       "      <td>1.548509</td>\n",
       "      <td>-1.305758</td>\n",
       "      <td>-1.088987</td>\n",
       "    </tr>\n",
       "    <tr>\n",
       "      <th>2016-01-27</th>\n",
       "      <td>-0.934032</td>\n",
       "      <td>0.714223</td>\n",
       "      <td>-0.972184</td>\n",
       "      <td>-1.136728</td>\n",
       "    </tr>\n",
       "    <tr>\n",
       "      <th>2016-01-28</th>\n",
       "      <td>0.135816</td>\n",
       "      <td>0.241768</td>\n",
       "      <td>1.024932</td>\n",
       "      <td>0.019927</td>\n",
       "    </tr>\n",
       "  </tbody>\n",
       "</table>\n",
       "</div>"
      ],
      "text/plain": [
       "                   A         B         C         D\n",
       "2016-01-24 -1.116883  0.297684  0.064356 -0.180352\n",
       "2016-01-25 -0.083992  0.488051 -1.157733 -1.274027\n",
       "2016-01-26 -0.705162  1.548509 -1.305758 -1.088987\n",
       "2016-01-27 -0.934032  0.714223 -0.972184 -1.136728\n",
       "2016-01-28  0.135816  0.241768  1.024932  0.019927"
      ]
     },
     "execution_count": 24,
     "metadata": {},
     "output_type": "execute_result"
    }
   ],
   "source": [
    "df.tail()"
   ]
  },
  {
   "cell_type": "code",
   "execution_count": 27,
   "metadata": {
    "collapsed": false
   },
   "outputs": [
    {
     "data": {
      "text/plain": [
       "DatetimeIndex(['2016-01-23', '2016-01-24', '2016-01-25', '2016-01-26',\n",
       "               '2016-01-27', '2016-01-28'],\n",
       "              dtype='datetime64[ns]', freq='D')"
      ]
     },
     "execution_count": 27,
     "metadata": {},
     "output_type": "execute_result"
    }
   ],
   "source": [
    "df.index"
   ]
  },
  {
   "cell_type": "code",
   "execution_count": 30,
   "metadata": {
    "collapsed": false
   },
   "outputs": [
    {
     "data": {
      "text/plain": [
       "Index([u'A', u'B', u'C', u'D'], dtype='object')"
      ]
     },
     "execution_count": 30,
     "metadata": {},
     "output_type": "execute_result"
    }
   ],
   "source": [
    "df.columns\n"
   ]
  },
  {
   "cell_type": "code",
   "execution_count": 32,
   "metadata": {
    "collapsed": false
   },
   "outputs": [
    {
     "data": {
      "text/plain": [
       "array([[-0.02226312,  0.38943418, -0.38889606, -2.22226834],\n",
       "       [-1.11688278,  0.29768439,  0.06435583, -0.18035228],\n",
       "       [-0.08399192,  0.48805107, -1.15773285, -1.27402682],\n",
       "       [-0.70516215,  1.54850907, -1.3057582 , -1.08898683],\n",
       "       [-0.93403163,  0.7142227 , -0.97218394, -1.1367284 ],\n",
       "       [ 0.13581606,  0.24176826,  1.02493199,  0.01992707]])"
      ]
     },
     "execution_count": 32,
     "metadata": {},
     "output_type": "execute_result"
    }
   ],
   "source": [
    "df.values"
   ]
  },
  {
   "cell_type": "code",
   "execution_count": 33,
   "metadata": {
    "collapsed": false
   },
   "outputs": [
    {
     "data": {
      "text/html": [
       "<div>\n",
       "<table border=\"1\" class=\"dataframe\">\n",
       "  <thead>\n",
       "    <tr style=\"text-align: right;\">\n",
       "      <th></th>\n",
       "      <th>A</th>\n",
       "      <th>B</th>\n",
       "      <th>C</th>\n",
       "      <th>D</th>\n",
       "    </tr>\n",
       "  </thead>\n",
       "  <tbody>\n",
       "    <tr>\n",
       "      <th>count</th>\n",
       "      <td>6.000000</td>\n",
       "      <td>6.000000</td>\n",
       "      <td>6.000000</td>\n",
       "      <td>6.000000</td>\n",
       "    </tr>\n",
       "    <tr>\n",
       "      <th>mean</th>\n",
       "      <td>-0.454419</td>\n",
       "      <td>0.613278</td>\n",
       "      <td>-0.455881</td>\n",
       "      <td>-0.980406</td>\n",
       "    </tr>\n",
       "    <tr>\n",
       "      <th>std</th>\n",
       "      <td>0.529927</td>\n",
       "      <td>0.487494</td>\n",
       "      <td>0.888752</td>\n",
       "      <td>0.813070</td>\n",
       "    </tr>\n",
       "    <tr>\n",
       "      <th>min</th>\n",
       "      <td>-1.116883</td>\n",
       "      <td>0.241768</td>\n",
       "      <td>-1.305758</td>\n",
       "      <td>-2.222268</td>\n",
       "    </tr>\n",
       "    <tr>\n",
       "      <th>25%</th>\n",
       "      <td>-0.876814</td>\n",
       "      <td>0.320622</td>\n",
       "      <td>-1.111346</td>\n",
       "      <td>-1.239702</td>\n",
       "    </tr>\n",
       "    <tr>\n",
       "      <th>50%</th>\n",
       "      <td>-0.394577</td>\n",
       "      <td>0.438743</td>\n",
       "      <td>-0.680540</td>\n",
       "      <td>-1.112858</td>\n",
       "    </tr>\n",
       "    <tr>\n",
       "      <th>75%</th>\n",
       "      <td>-0.037695</td>\n",
       "      <td>0.657680</td>\n",
       "      <td>-0.048957</td>\n",
       "      <td>-0.407511</td>\n",
       "    </tr>\n",
       "    <tr>\n",
       "      <th>max</th>\n",
       "      <td>0.135816</td>\n",
       "      <td>1.548509</td>\n",
       "      <td>1.024932</td>\n",
       "      <td>0.019927</td>\n",
       "    </tr>\n",
       "  </tbody>\n",
       "</table>\n",
       "</div>"
      ],
      "text/plain": [
       "              A         B         C         D\n",
       "count  6.000000  6.000000  6.000000  6.000000\n",
       "mean  -0.454419  0.613278 -0.455881 -0.980406\n",
       "std    0.529927  0.487494  0.888752  0.813070\n",
       "min   -1.116883  0.241768 -1.305758 -2.222268\n",
       "25%   -0.876814  0.320622 -1.111346 -1.239702\n",
       "50%   -0.394577  0.438743 -0.680540 -1.112858\n",
       "75%   -0.037695  0.657680 -0.048957 -0.407511\n",
       "max    0.135816  1.548509  1.024932  0.019927"
      ]
     },
     "execution_count": 33,
     "metadata": {},
     "output_type": "execute_result"
    }
   ],
   "source": [
    "df.describe()"
   ]
  },
  {
   "cell_type": "code",
   "execution_count": 34,
   "metadata": {
    "collapsed": false
   },
   "outputs": [
    {
     "data": {
      "text/html": [
       "<div>\n",
       "<table border=\"1\" class=\"dataframe\">\n",
       "  <thead>\n",
       "    <tr style=\"text-align: right;\">\n",
       "      <th></th>\n",
       "      <th>2016-01-23 00:00:00</th>\n",
       "      <th>2016-01-24 00:00:00</th>\n",
       "      <th>2016-01-25 00:00:00</th>\n",
       "      <th>2016-01-26 00:00:00</th>\n",
       "      <th>2016-01-27 00:00:00</th>\n",
       "      <th>2016-01-28 00:00:00</th>\n",
       "    </tr>\n",
       "  </thead>\n",
       "  <tbody>\n",
       "    <tr>\n",
       "      <th>A</th>\n",
       "      <td>-0.022263</td>\n",
       "      <td>-1.116883</td>\n",
       "      <td>-0.083992</td>\n",
       "      <td>-0.705162</td>\n",
       "      <td>-0.934032</td>\n",
       "      <td>0.135816</td>\n",
       "    </tr>\n",
       "    <tr>\n",
       "      <th>B</th>\n",
       "      <td>0.389434</td>\n",
       "      <td>0.297684</td>\n",
       "      <td>0.488051</td>\n",
       "      <td>1.548509</td>\n",
       "      <td>0.714223</td>\n",
       "      <td>0.241768</td>\n",
       "    </tr>\n",
       "    <tr>\n",
       "      <th>C</th>\n",
       "      <td>-0.388896</td>\n",
       "      <td>0.064356</td>\n",
       "      <td>-1.157733</td>\n",
       "      <td>-1.305758</td>\n",
       "      <td>-0.972184</td>\n",
       "      <td>1.024932</td>\n",
       "    </tr>\n",
       "    <tr>\n",
       "      <th>D</th>\n",
       "      <td>-2.222268</td>\n",
       "      <td>-0.180352</td>\n",
       "      <td>-1.274027</td>\n",
       "      <td>-1.088987</td>\n",
       "      <td>-1.136728</td>\n",
       "      <td>0.019927</td>\n",
       "    </tr>\n",
       "  </tbody>\n",
       "</table>\n",
       "</div>"
      ],
      "text/plain": [
       "   2016-01-23  2016-01-24  2016-01-25  2016-01-26  2016-01-27  2016-01-28\n",
       "A   -0.022263   -1.116883   -0.083992   -0.705162   -0.934032    0.135816\n",
       "B    0.389434    0.297684    0.488051    1.548509    0.714223    0.241768\n",
       "C   -0.388896    0.064356   -1.157733   -1.305758   -0.972184    1.024932\n",
       "D   -2.222268   -0.180352   -1.274027   -1.088987   -1.136728    0.019927"
      ]
     },
     "execution_count": 34,
     "metadata": {},
     "output_type": "execute_result"
    }
   ],
   "source": [
    "df.T"
   ]
  },
  {
   "cell_type": "code",
   "execution_count": 40,
   "metadata": {
    "collapsed": false
   },
   "outputs": [
    {
     "data": {
      "text/html": [
       "<div>\n",
       "<table border=\"1\" class=\"dataframe\">\n",
       "  <thead>\n",
       "    <tr style=\"text-align: right;\">\n",
       "      <th></th>\n",
       "      <th>D</th>\n",
       "      <th>C</th>\n",
       "      <th>B</th>\n",
       "      <th>A</th>\n",
       "    </tr>\n",
       "  </thead>\n",
       "  <tbody>\n",
       "    <tr>\n",
       "      <th>2016-01-23</th>\n",
       "      <td>-2.222268</td>\n",
       "      <td>-0.388896</td>\n",
       "      <td>0.389434</td>\n",
       "      <td>-0.022263</td>\n",
       "    </tr>\n",
       "    <tr>\n",
       "      <th>2016-01-24</th>\n",
       "      <td>-0.180352</td>\n",
       "      <td>0.064356</td>\n",
       "      <td>0.297684</td>\n",
       "      <td>-1.116883</td>\n",
       "    </tr>\n",
       "    <tr>\n",
       "      <th>2016-01-25</th>\n",
       "      <td>-1.274027</td>\n",
       "      <td>-1.157733</td>\n",
       "      <td>0.488051</td>\n",
       "      <td>-0.083992</td>\n",
       "    </tr>\n",
       "    <tr>\n",
       "      <th>2016-01-26</th>\n",
       "      <td>-1.088987</td>\n",
       "      <td>-1.305758</td>\n",
       "      <td>1.548509</td>\n",
       "      <td>-0.705162</td>\n",
       "    </tr>\n",
       "    <tr>\n",
       "      <th>2016-01-27</th>\n",
       "      <td>-1.136728</td>\n",
       "      <td>-0.972184</td>\n",
       "      <td>0.714223</td>\n",
       "      <td>-0.934032</td>\n",
       "    </tr>\n",
       "    <tr>\n",
       "      <th>2016-01-28</th>\n",
       "      <td>0.019927</td>\n",
       "      <td>1.024932</td>\n",
       "      <td>0.241768</td>\n",
       "      <td>0.135816</td>\n",
       "    </tr>\n",
       "  </tbody>\n",
       "</table>\n",
       "</div>"
      ],
      "text/plain": [
       "                   D         C         B         A\n",
       "2016-01-23 -2.222268 -0.388896  0.389434 -0.022263\n",
       "2016-01-24 -0.180352  0.064356  0.297684 -1.116883\n",
       "2016-01-25 -1.274027 -1.157733  0.488051 -0.083992\n",
       "2016-01-26 -1.088987 -1.305758  1.548509 -0.705162\n",
       "2016-01-27 -1.136728 -0.972184  0.714223 -0.934032\n",
       "2016-01-28  0.019927  1.024932  0.241768  0.135816"
      ]
     },
     "execution_count": 40,
     "metadata": {},
     "output_type": "execute_result"
    }
   ],
   "source": [
    "df.sort_index(axis=1, ascending=False)"
   ]
  },
  {
   "cell_type": "code",
   "execution_count": 41,
   "metadata": {
    "collapsed": false
   },
   "outputs": [
    {
     "data": {
      "text/html": [
       "<div>\n",
       "<table border=\"1\" class=\"dataframe\">\n",
       "  <thead>\n",
       "    <tr style=\"text-align: right;\">\n",
       "      <th></th>\n",
       "      <th>A</th>\n",
       "      <th>B</th>\n",
       "      <th>C</th>\n",
       "      <th>D</th>\n",
       "    </tr>\n",
       "  </thead>\n",
       "  <tbody>\n",
       "    <tr>\n",
       "      <th>2016-01-28</th>\n",
       "      <td>0.135816</td>\n",
       "      <td>0.241768</td>\n",
       "      <td>1.024932</td>\n",
       "      <td>0.019927</td>\n",
       "    </tr>\n",
       "    <tr>\n",
       "      <th>2016-01-24</th>\n",
       "      <td>-1.116883</td>\n",
       "      <td>0.297684</td>\n",
       "      <td>0.064356</td>\n",
       "      <td>-0.180352</td>\n",
       "    </tr>\n",
       "    <tr>\n",
       "      <th>2016-01-23</th>\n",
       "      <td>-0.022263</td>\n",
       "      <td>0.389434</td>\n",
       "      <td>-0.388896</td>\n",
       "      <td>-2.222268</td>\n",
       "    </tr>\n",
       "    <tr>\n",
       "      <th>2016-01-25</th>\n",
       "      <td>-0.083992</td>\n",
       "      <td>0.488051</td>\n",
       "      <td>-1.157733</td>\n",
       "      <td>-1.274027</td>\n",
       "    </tr>\n",
       "    <tr>\n",
       "      <th>2016-01-27</th>\n",
       "      <td>-0.934032</td>\n",
       "      <td>0.714223</td>\n",
       "      <td>-0.972184</td>\n",
       "      <td>-1.136728</td>\n",
       "    </tr>\n",
       "    <tr>\n",
       "      <th>2016-01-26</th>\n",
       "      <td>-0.705162</td>\n",
       "      <td>1.548509</td>\n",
       "      <td>-1.305758</td>\n",
       "      <td>-1.088987</td>\n",
       "    </tr>\n",
       "  </tbody>\n",
       "</table>\n",
       "</div>"
      ],
      "text/plain": [
       "                   A         B         C         D\n",
       "2016-01-28  0.135816  0.241768  1.024932  0.019927\n",
       "2016-01-24 -1.116883  0.297684  0.064356 -0.180352\n",
       "2016-01-23 -0.022263  0.389434 -0.388896 -2.222268\n",
       "2016-01-25 -0.083992  0.488051 -1.157733 -1.274027\n",
       "2016-01-27 -0.934032  0.714223 -0.972184 -1.136728\n",
       "2016-01-26 -0.705162  1.548509 -1.305758 -1.088987"
      ]
     },
     "execution_count": 41,
     "metadata": {},
     "output_type": "execute_result"
    }
   ],
   "source": [
    "df.sort_values(by='B')"
   ]
  },
  {
   "cell_type": "code",
   "execution_count": 45,
   "metadata": {
    "collapsed": false
   },
   "outputs": [
    {
     "data": {
      "text/plain": [
       "2016-01-28    0.135816\n",
       "2016-01-23   -0.022263\n",
       "2016-01-25   -0.083992\n",
       "2016-01-26   -0.705162\n",
       "2016-01-27   -0.934032\n",
       "2016-01-24   -1.116883\n",
       "Name: A, dtype: float64"
      ]
     },
     "execution_count": 45,
     "metadata": {},
     "output_type": "execute_result"
    }
   ],
   "source": [
    "df['A'].sort_values(ascending=False)"
   ]
  },
  {
   "cell_type": "code",
   "execution_count": 46,
   "metadata": {
    "collapsed": false
   },
   "outputs": [
    {
     "data": {
      "text/html": [
       "<div>\n",
       "<table border=\"1\" class=\"dataframe\">\n",
       "  <thead>\n",
       "    <tr style=\"text-align: right;\">\n",
       "      <th></th>\n",
       "      <th>A</th>\n",
       "      <th>B</th>\n",
       "      <th>C</th>\n",
       "      <th>D</th>\n",
       "    </tr>\n",
       "  </thead>\n",
       "  <tbody>\n",
       "    <tr>\n",
       "      <th>2016-01-23</th>\n",
       "      <td>-0.022263</td>\n",
       "      <td>0.389434</td>\n",
       "      <td>-0.388896</td>\n",
       "      <td>-2.222268</td>\n",
       "    </tr>\n",
       "    <tr>\n",
       "      <th>2016-01-24</th>\n",
       "      <td>-1.116883</td>\n",
       "      <td>0.297684</td>\n",
       "      <td>0.064356</td>\n",
       "      <td>-0.180352</td>\n",
       "    </tr>\n",
       "    <tr>\n",
       "      <th>2016-01-25</th>\n",
       "      <td>-0.083992</td>\n",
       "      <td>0.488051</td>\n",
       "      <td>-1.157733</td>\n",
       "      <td>-1.274027</td>\n",
       "    </tr>\n",
       "  </tbody>\n",
       "</table>\n",
       "</div>"
      ],
      "text/plain": [
       "                   A         B         C         D\n",
       "2016-01-23 -0.022263  0.389434 -0.388896 -2.222268\n",
       "2016-01-24 -1.116883  0.297684  0.064356 -0.180352\n",
       "2016-01-25 -0.083992  0.488051 -1.157733 -1.274027"
      ]
     },
     "execution_count": 46,
     "metadata": {},
     "output_type": "execute_result"
    }
   ],
   "source": [
    "df[0:3]"
   ]
  },
  {
   "cell_type": "code",
   "execution_count": 48,
   "metadata": {
    "collapsed": false
   },
   "outputs": [
    {
     "data": {
      "text/html": [
       "<div>\n",
       "<table border=\"1\" class=\"dataframe\">\n",
       "  <thead>\n",
       "    <tr style=\"text-align: right;\">\n",
       "      <th></th>\n",
       "      <th>A</th>\n",
       "      <th>B</th>\n",
       "      <th>C</th>\n",
       "      <th>D</th>\n",
       "    </tr>\n",
       "  </thead>\n",
       "  <tbody>\n",
       "    <tr>\n",
       "      <th>2016-01-23</th>\n",
       "      <td>-0.022263</td>\n",
       "      <td>0.389434</td>\n",
       "      <td>-0.388896</td>\n",
       "      <td>-2.222268</td>\n",
       "    </tr>\n",
       "    <tr>\n",
       "      <th>2016-01-24</th>\n",
       "      <td>-1.116883</td>\n",
       "      <td>0.297684</td>\n",
       "      <td>0.064356</td>\n",
       "      <td>-0.180352</td>\n",
       "    </tr>\n",
       "    <tr>\n",
       "      <th>2016-01-25</th>\n",
       "      <td>-0.083992</td>\n",
       "      <td>0.488051</td>\n",
       "      <td>-1.157733</td>\n",
       "      <td>-1.274027</td>\n",
       "    </tr>\n",
       "    <tr>\n",
       "      <th>2016-01-26</th>\n",
       "      <td>-0.705162</td>\n",
       "      <td>1.548509</td>\n",
       "      <td>-1.305758</td>\n",
       "      <td>-1.088987</td>\n",
       "    </tr>\n",
       "    <tr>\n",
       "      <th>2016-01-27</th>\n",
       "      <td>-0.934032</td>\n",
       "      <td>0.714223</td>\n",
       "      <td>-0.972184</td>\n",
       "      <td>-1.136728</td>\n",
       "    </tr>\n",
       "  </tbody>\n",
       "</table>\n",
       "</div>"
      ],
      "text/plain": [
       "                   A         B         C         D\n",
       "2016-01-23 -0.022263  0.389434 -0.388896 -2.222268\n",
       "2016-01-24 -1.116883  0.297684  0.064356 -0.180352\n",
       "2016-01-25 -0.083992  0.488051 -1.157733 -1.274027\n",
       "2016-01-26 -0.705162  1.548509 -1.305758 -1.088987\n",
       "2016-01-27 -0.934032  0.714223 -0.972184 -1.136728"
      ]
     },
     "execution_count": 48,
     "metadata": {},
     "output_type": "execute_result"
    }
   ],
   "source": [
    "df['2016-01-23':'2016-01-27']"
   ]
  },
  {
   "cell_type": "code",
   "execution_count": 52,
   "metadata": {
    "collapsed": false
   },
   "outputs": [
    {
     "data": {
      "text/plain": [
       "A   -0.022263\n",
       "B    0.389434\n",
       "C   -0.388896\n",
       "D   -2.222268\n",
       "Name: 2016-01-23 00:00:00, dtype: float64"
      ]
     },
     "execution_count": 52,
     "metadata": {},
     "output_type": "execute_result"
    }
   ],
   "source": [
    "df.loc[dates[0]]"
   ]
  },
  {
   "cell_type": "code",
   "execution_count": 55,
   "metadata": {
    "collapsed": false
   },
   "outputs": [
    {
     "data": {
      "text/html": [
       "<div>\n",
       "<table border=\"1\" class=\"dataframe\">\n",
       "  <thead>\n",
       "    <tr style=\"text-align: right;\">\n",
       "      <th></th>\n",
       "      <th>A</th>\n",
       "      <th>B</th>\n",
       "      <th>C</th>\n",
       "      <th>D</th>\n",
       "    </tr>\n",
       "  </thead>\n",
       "  <tbody>\n",
       "    <tr>\n",
       "      <th>2016-01-23</th>\n",
       "      <td>-0.022263</td>\n",
       "      <td>0.389434</td>\n",
       "      <td>-0.388896</td>\n",
       "      <td>-2.222268</td>\n",
       "    </tr>\n",
       "    <tr>\n",
       "      <th>2016-01-24</th>\n",
       "      <td>-1.116883</td>\n",
       "      <td>0.297684</td>\n",
       "      <td>0.064356</td>\n",
       "      <td>-0.180352</td>\n",
       "    </tr>\n",
       "    <tr>\n",
       "      <th>2016-01-25</th>\n",
       "      <td>-0.083992</td>\n",
       "      <td>0.488051</td>\n",
       "      <td>-1.157733</td>\n",
       "      <td>-1.274027</td>\n",
       "    </tr>\n",
       "    <tr>\n",
       "      <th>2016-01-26</th>\n",
       "      <td>-0.705162</td>\n",
       "      <td>1.548509</td>\n",
       "      <td>-1.305758</td>\n",
       "      <td>-1.088987</td>\n",
       "    </tr>\n",
       "  </tbody>\n",
       "</table>\n",
       "</div>"
      ],
      "text/plain": [
       "                   A         B         C         D\n",
       "2016-01-23 -0.022263  0.389434 -0.388896 -2.222268\n",
       "2016-01-24 -1.116883  0.297684  0.064356 -0.180352\n",
       "2016-01-25 -0.083992  0.488051 -1.157733 -1.274027\n",
       "2016-01-26 -0.705162  1.548509 -1.305758 -1.088987"
      ]
     },
     "execution_count": 55,
     "metadata": {},
     "output_type": "execute_result"
    }
   ],
   "source": [
    "df.loc[dates[0]:dates[3], 'A':'D']"
   ]
  },
  {
   "cell_type": "code",
   "execution_count": 56,
   "metadata": {
    "collapsed": false
   },
   "outputs": [
    {
     "data": {
      "text/plain": [
       "-0.02226312319462783"
      ]
     },
     "execution_count": 56,
     "metadata": {},
     "output_type": "execute_result"
    }
   ],
   "source": [
    "df.at[dates[0],'A']"
   ]
  },
  {
   "cell_type": "code",
   "execution_count": 57,
   "metadata": {
    "collapsed": false
   },
   "outputs": [
    {
     "data": {
      "text/plain": [
       "A   -0.022263\n",
       "B    0.389434\n",
       "C   -0.388896\n",
       "D   -2.222268\n",
       "Name: 2016-01-23 00:00:00, dtype: float64"
      ]
     },
     "execution_count": 57,
     "metadata": {},
     "output_type": "execute_result"
    }
   ],
   "source": [
    "df.iloc[0]"
   ]
  },
  {
   "cell_type": "code",
   "execution_count": 60,
   "metadata": {
    "collapsed": false
   },
   "outputs": [
    {
     "data": {
      "text/html": [
       "<div>\n",
       "<table border=\"1\" class=\"dataframe\">\n",
       "  <thead>\n",
       "    <tr style=\"text-align: right;\">\n",
       "      <th></th>\n",
       "      <th>A</th>\n",
       "      <th>B</th>\n",
       "      <th>C</th>\n",
       "    </tr>\n",
       "  </thead>\n",
       "  <tbody>\n",
       "    <tr>\n",
       "      <th>2016-01-23</th>\n",
       "      <td>-0.022263</td>\n",
       "      <td>0.389434</td>\n",
       "      <td>-0.388896</td>\n",
       "    </tr>\n",
       "    <tr>\n",
       "      <th>2016-01-24</th>\n",
       "      <td>-1.116883</td>\n",
       "      <td>0.297684</td>\n",
       "      <td>0.064356</td>\n",
       "    </tr>\n",
       "    <tr>\n",
       "      <th>2016-01-25</th>\n",
       "      <td>-0.083992</td>\n",
       "      <td>0.488051</td>\n",
       "      <td>-1.157733</td>\n",
       "    </tr>\n",
       "  </tbody>\n",
       "</table>\n",
       "</div>"
      ],
      "text/plain": [
       "                   A         B         C\n",
       "2016-01-23 -0.022263  0.389434 -0.388896\n",
       "2016-01-24 -1.116883  0.297684  0.064356\n",
       "2016-01-25 -0.083992  0.488051 -1.157733"
      ]
     },
     "execution_count": 60,
     "metadata": {},
     "output_type": "execute_result"
    }
   ],
   "source": [
    "df.iloc[0:3, 0:3]"
   ]
  },
  {
   "cell_type": "code",
   "execution_count": 61,
   "metadata": {
    "collapsed": false
   },
   "outputs": [
    {
     "data": {
      "text/html": [
       "<div>\n",
       "<table border=\"1\" class=\"dataframe\">\n",
       "  <thead>\n",
       "    <tr style=\"text-align: right;\">\n",
       "      <th></th>\n",
       "      <th>A</th>\n",
       "      <th>B</th>\n",
       "      <th>C</th>\n",
       "      <th>D</th>\n",
       "    </tr>\n",
       "  </thead>\n",
       "  <tbody>\n",
       "    <tr>\n",
       "      <th>2016-01-23</th>\n",
       "      <td>NaN</td>\n",
       "      <td>0.389434</td>\n",
       "      <td>NaN</td>\n",
       "      <td>NaN</td>\n",
       "    </tr>\n",
       "    <tr>\n",
       "      <th>2016-01-24</th>\n",
       "      <td>NaN</td>\n",
       "      <td>0.297684</td>\n",
       "      <td>0.064356</td>\n",
       "      <td>NaN</td>\n",
       "    </tr>\n",
       "    <tr>\n",
       "      <th>2016-01-25</th>\n",
       "      <td>NaN</td>\n",
       "      <td>0.488051</td>\n",
       "      <td>NaN</td>\n",
       "      <td>NaN</td>\n",
       "    </tr>\n",
       "    <tr>\n",
       "      <th>2016-01-26</th>\n",
       "      <td>NaN</td>\n",
       "      <td>1.548509</td>\n",
       "      <td>NaN</td>\n",
       "      <td>NaN</td>\n",
       "    </tr>\n",
       "    <tr>\n",
       "      <th>2016-01-27</th>\n",
       "      <td>NaN</td>\n",
       "      <td>0.714223</td>\n",
       "      <td>NaN</td>\n",
       "      <td>NaN</td>\n",
       "    </tr>\n",
       "    <tr>\n",
       "      <th>2016-01-28</th>\n",
       "      <td>0.135816</td>\n",
       "      <td>0.241768</td>\n",
       "      <td>1.024932</td>\n",
       "      <td>0.019927</td>\n",
       "    </tr>\n",
       "  </tbody>\n",
       "</table>\n",
       "</div>"
      ],
      "text/plain": [
       "                   A         B         C         D\n",
       "2016-01-23       NaN  0.389434       NaN       NaN\n",
       "2016-01-24       NaN  0.297684  0.064356       NaN\n",
       "2016-01-25       NaN  0.488051       NaN       NaN\n",
       "2016-01-26       NaN  1.548509       NaN       NaN\n",
       "2016-01-27       NaN  0.714223       NaN       NaN\n",
       "2016-01-28  0.135816  0.241768  1.024932  0.019927"
      ]
     },
     "execution_count": 61,
     "metadata": {},
     "output_type": "execute_result"
    }
   ],
   "source": [
    "df[df > 0]"
   ]
  },
  {
   "cell_type": "code",
   "execution_count": 62,
   "metadata": {
    "collapsed": true
   },
   "outputs": [],
   "source": [
    "df2 = df.copy()"
   ]
  },
  {
   "cell_type": "code",
   "execution_count": 63,
   "metadata": {
    "collapsed": true
   },
   "outputs": [],
   "source": [
    "df2['E'] = - df2['B']"
   ]
  },
  {
   "cell_type": "code",
   "execution_count": 64,
   "metadata": {
    "collapsed": false
   },
   "outputs": [
    {
     "data": {
      "text/html": [
       "<div>\n",
       "<table border=\"1\" class=\"dataframe\">\n",
       "  <thead>\n",
       "    <tr style=\"text-align: right;\">\n",
       "      <th></th>\n",
       "      <th>A</th>\n",
       "      <th>B</th>\n",
       "      <th>C</th>\n",
       "      <th>D</th>\n",
       "      <th>E</th>\n",
       "    </tr>\n",
       "  </thead>\n",
       "  <tbody>\n",
       "    <tr>\n",
       "      <th>2016-01-23</th>\n",
       "      <td>-0.022263</td>\n",
       "      <td>0.389434</td>\n",
       "      <td>-0.388896</td>\n",
       "      <td>-2.222268</td>\n",
       "      <td>-0.389434</td>\n",
       "    </tr>\n",
       "    <tr>\n",
       "      <th>2016-01-24</th>\n",
       "      <td>-1.116883</td>\n",
       "      <td>0.297684</td>\n",
       "      <td>0.064356</td>\n",
       "      <td>-0.180352</td>\n",
       "      <td>-0.297684</td>\n",
       "    </tr>\n",
       "    <tr>\n",
       "      <th>2016-01-25</th>\n",
       "      <td>-0.083992</td>\n",
       "      <td>0.488051</td>\n",
       "      <td>-1.157733</td>\n",
       "      <td>-1.274027</td>\n",
       "      <td>-0.488051</td>\n",
       "    </tr>\n",
       "    <tr>\n",
       "      <th>2016-01-26</th>\n",
       "      <td>-0.705162</td>\n",
       "      <td>1.548509</td>\n",
       "      <td>-1.305758</td>\n",
       "      <td>-1.088987</td>\n",
       "      <td>-1.548509</td>\n",
       "    </tr>\n",
       "    <tr>\n",
       "      <th>2016-01-27</th>\n",
       "      <td>-0.934032</td>\n",
       "      <td>0.714223</td>\n",
       "      <td>-0.972184</td>\n",
       "      <td>-1.136728</td>\n",
       "      <td>-0.714223</td>\n",
       "    </tr>\n",
       "    <tr>\n",
       "      <th>2016-01-28</th>\n",
       "      <td>0.135816</td>\n",
       "      <td>0.241768</td>\n",
       "      <td>1.024932</td>\n",
       "      <td>0.019927</td>\n",
       "      <td>-0.241768</td>\n",
       "    </tr>\n",
       "  </tbody>\n",
       "</table>\n",
       "</div>"
      ],
      "text/plain": [
       "                   A         B         C         D         E\n",
       "2016-01-23 -0.022263  0.389434 -0.388896 -2.222268 -0.389434\n",
       "2016-01-24 -1.116883  0.297684  0.064356 -0.180352 -0.297684\n",
       "2016-01-25 -0.083992  0.488051 -1.157733 -1.274027 -0.488051\n",
       "2016-01-26 -0.705162  1.548509 -1.305758 -1.088987 -1.548509\n",
       "2016-01-27 -0.934032  0.714223 -0.972184 -1.136728 -0.714223\n",
       "2016-01-28  0.135816  0.241768  1.024932  0.019927 -0.241768"
      ]
     },
     "execution_count": 64,
     "metadata": {},
     "output_type": "execute_result"
    }
   ],
   "source": [
    "df2"
   ]
  },
  {
   "cell_type": "code",
   "execution_count": null,
   "metadata": {
    "collapsed": true
   },
   "outputs": [],
   "source": []
  },
  {
   "cell_type": "code",
   "execution_count": null,
   "metadata": {
    "collapsed": true
   },
   "outputs": [],
   "source": []
  },
  {
   "cell_type": "code",
   "execution_count": null,
   "metadata": {
    "collapsed": true
   },
   "outputs": [],
   "source": []
  },
  {
   "cell_type": "code",
   "execution_count": null,
   "metadata": {
    "collapsed": true
   },
   "outputs": [],
   "source": []
  }
 ],
 "metadata": {
  "kernelspec": {
   "display_name": "Python 2",
   "language": "python",
   "name": "python2"
  },
  "language_info": {
   "codemirror_mode": {
    "name": "ipython",
    "version": 2
   },
   "file_extension": ".py",
   "mimetype": "text/x-python",
   "name": "python",
   "nbconvert_exporter": "python",
   "pygments_lexer": "ipython2",
   "version": "2.7.11"
  }
 },
 "nbformat": 4,
 "nbformat_minor": 0
}
